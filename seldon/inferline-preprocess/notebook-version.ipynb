{
 "cells": [
  {
   "cell_type": "markdown",
   "metadata": {},
   "source": [
    "# TF Cascade"
   ]
  },
  {
   "cell_type": "code",
   "execution_count": 1,
   "metadata": {},
   "outputs": [
    {
     "name": "stderr",
     "output_type": "stream",
     "text": [
      "/home/cc/miniconda3/envs/central/lib/python3.8/site-packages/tqdm/auto.py:22: TqdmWarning: IProgress not found. Please update jupyter and ipywidgets. See https://ipywidgets.readthedocs.io/en/stable/user_install.html\n",
      "  from .autonotebook import tqdm as notebook_tqdm\n"
     ]
    }
   ],
   "source": [
    "import torchvision\n",
    "import torch\n",
    "import pandas as pd\n",
    "import numpy as np\n",
    "from torchvision import transforms\n",
    "from PIL import Image\n",
    "import os\n",
    "\n",
    "data_folder_path = '/home/cc/object-store/datasets'\n",
    "dataset_folder_path = os.path.join(\n",
    "    data_folder_path, 'ILSVRC/Data/DET/test'\n",
    ")\n",
    "classes_file_path = os.path.join(\n",
    "    data_folder_path, 'imagenet_classes.txt'\n",
    ")"
   ]
  },
  {
   "cell_type": "code",
   "execution_count": 3,
   "metadata": {},
   "outputs": [
    {
     "data": {
      "text/plain": [
       "'ILSVRC2017_test_00005500.JPEG'"
      ]
     },
     "execution_count": 3,
     "metadata": {},
     "output_type": "execute_result"
    }
   ],
   "source": [
    "with open(classes_file_path) as f:\n",
    "    classes = [line.strip() for line in f.readlines()]\n",
    "\n",
    "x = np.array([])\n",
    "directory = os.fsencode(dataset_folder_path)\n",
    "\n",
    "for root, dirs, files in os.walk(dataset_folder_path):\n",
    "    for filename in files:\n",
    "        x = np.append(x, filename)\n",
    "df = pd.DataFrame(data=x, columns=[\"images\"])\n",
    "df['images'][0]"
   ]
  },
  {
   "cell_type": "code",
   "execution_count": 71,
   "metadata": {},
   "outputs": [],
   "source": [
    "def resnet_model(img):\n",
    "    \"\"\"\n",
    "    ResNet101 for image classification on ResNet\n",
    "    \"\"\"\n",
    "    # standard resnet image transformation\n",
    "    transform = transforms.Compose([\n",
    "    transforms.Resize(256),                    \n",
    "    transforms.CenterCrop(224), \n",
    "    transforms.ToTensor(),                     \n",
    "    transforms.Normalize(                      \n",
    "    mean=[0.485, 0.456, 0.406],                \n",
    "    std=[0.229, 0.224, 0.225]                  \n",
    "    )])\n",
    "    \n",
    "    resnet = torchvision.models.resnet101(pretrained=True)\n",
    "    resnet.eval()\n",
    "    # img_2 = Image.open(os.path.join(dataset_folder, img[0]))\n",
    "    img_t = transform(img['images'])\n",
    "    batch_t = torch.unsqueeze(img_t, 0)\n",
    "    out = resnet(batch_t)\n",
    "    _, indices = torch.sort(out, descending=True)\n",
    "    percentage = torch.nn.functional.softmax(out, dim=1)[0] * 100\n",
    "    p_2 = percentage.detach().numpy()\n",
    "    return indices.detach().numpy()[0], p_2, p_2[indices[0][0]]\n"
   ]
  },
  {
   "cell_type": "code",
   "execution_count": 72,
   "metadata": {},
   "outputs": [],
   "source": [
    "def inceptionv3_model(img):\n",
    "    transform = transforms.Compose([\n",
    "    transforms.Resize(256),                    \n",
    "    transforms.CenterCrop(224),                \n",
    "    transforms.ToTensor(),                     \n",
    "    transforms.Normalize(                      \n",
    "    mean=[0.485, 0.456, 0.406],                \n",
    "    std=[0.229, 0.224, 0.225]                  \n",
    "    )])\n",
    "    \n",
    "    resnet = torchvision.models.inception_v3(pretrained=True)\n",
    "    resnet.eval()\n",
    "    # img_2 = Image.open(os.path.join(dataset_folder, img[0]))\n",
    "    img_t = transform(img['images'])\n",
    "    batch_t = torch.unsqueeze(img_t, 0)\n",
    "    out = resnet(batch_t)\n",
    "    _, indices = torch.sort(out, descending=True)\n",
    "    percentage = torch.nn.functional.softmax(out, dim=1)[0] * 100\n",
    "    p_2 = percentage.detach().numpy()\n",
    "    return indices.detach().numpy()[0], p_2, p_2[indices[0][0]]"
   ]
  },
  {
   "cell_type": "code",
   "execution_count": 73,
   "metadata": {},
   "outputs": [],
   "source": [
    "def cascade_predict(row):\n",
    "    \"\"\"\n",
    "    cascade predict based on resnt and compare the final results\n",
    "    \"\"\"\n",
    "    r_index = row[1]\n",
    "    r_perc = row[2]\n",
    "    r_max_prob = row[3]\n",
    "    i_index = row[4]\n",
    "    i_perc = row[5]\n",
    "    i_max_prob= row[6]\n",
    "#     print(np.isnan(i_max_prob))\n",
    "    \n",
    "    if np.isnan(i_max_prob):\n",
    "        # didn't go to inception because resnet prediction was confident enough\n",
    "        return r_index, r_perc, classes[r_index[0]]\n",
    "    else:\n",
    "        #choose the distribution with the higher max_prob\n",
    "        if r_max_prob > i_max_prob:\n",
    "            return r_index, r_perc, classes[r_index[0]]\n",
    "        else:\n",
    "            return i_index, i_perc, classes[i_index[0]]\n"
   ]
  },
  {
   "cell_type": "code",
   "execution_count": 4,
   "metadata": {},
   "outputs": [],
   "source": [
    "def filter_color_images(img):\n",
    "    img_2 = Image.open(os.path.join(dataset_folder_path, img[0]))\n",
    "    if img_2.mode == 'RGB':\n",
    "        return True\n",
    "    return False"
   ]
  },
  {
   "cell_type": "code",
   "execution_count": 5,
   "metadata": {},
   "outputs": [],
   "source": [
    "def show(img):\n",
    "    img_2 = Image.open(os.path.join(dataset_folder_path, img))\n",
    "    img_2.show()\n",
    "\n",
    "def load_pics(img):\n",
    "    img = Image.open(os.path.join(dataset_folder_path, img))\n",
    "    return img"
   ]
  },
  {
   "cell_type": "code",
   "execution_count": 6,
   "metadata": {},
   "outputs": [],
   "source": [
    "num_images = 10\n",
    "# client side preprocess\n",
    "df = df.sort_values(by=['images'])\n",
    "# df['image_names'] = df['images']\n",
    "df_s = df.head(num_images)\n",
    "df_s = df_s[df_s.apply(filter_color_images, axis=1)]\n",
    "df_s['images'] = df_s['images'].apply(load_pics)"
   ]
  },
  {
   "cell_type": "code",
   "execution_count": null,
   "metadata": {},
   "outputs": [],
   "source": []
  },
  {
   "cell_type": "code",
   "execution_count": null,
   "metadata": {},
   "outputs": [],
   "source": [
    "img_index = 0\n",
    "res = resnet_model(df_s.iloc[img_index])\n",
    "res"
   ]
  },
  {
   "cell_type": "code",
   "execution_count": null,
   "metadata": {},
   "outputs": [],
   "source": [
    "resnet_preds = df_s.apply(\n",
    "    resnet_model, axis=1, result_type=\"expand\").rename(\n",
    "        columns={0: \"resnet_indices\", 1: \"resnet_percentage\", 2: \"resnet_max_prob\"})\n",
    "resnet_preds"
   ]
  },
  {
   "cell_type": "code",
   "execution_count": null,
   "metadata": {},
   "outputs": [],
   "source": [
    "resnet_preds = df_s.apply(\n",
    "    resnet_model, axis=1, result_type=\"expand\").rename(\n",
    "        columns={0: \"resnet_indices\", 1: \"resnet_percentage\", 2: \"resnet_max_prob\"}) \n",
    "\n",
    "# only send the queries that are above a 85 percnt to the resnet model\n",
    "# then join it with the original \n",
    "inception_preds = df_s.join(\n",
    "    resnet_preds[resnet_preds['resnet_max_prob'] < 85], how='right').apply(\n",
    "        inceptionv3_model, axis=1, result_type=\"expand\").rename(\n",
    "            columns={0: \"inception_indices\", 1: \"inception_percentage\", 2:\"inception_max_prob\"})\n",
    "inception_preds"
   ]
  },
  {
   "cell_type": "code",
   "execution_count": null,
   "metadata": {},
   "outputs": [],
   "source": [
    "resnet_preds = df_s.apply(\n",
    "    resnet_model, axis=1, result_type=\"expand\").rename(\n",
    "        columns={0: \"resnet_indices\", 1: \"resnet_percentage\", 2: \"resnet_max_prob\"}) \n",
    "\n",
    "# only send the queries that are above a 85 percnt to the resnet model\n",
    "# then join it with the original \n",
    "inception_preds = df_s.join(\n",
    "    resnet_preds[resnet_preds['resnet_max_prob'] < 85], how='right').apply(\n",
    "        inceptionv3_model, axis=1, result_type=\"expand\").rename(\n",
    "            columns={0: \"inception_indices\", 1: \"inception_percentage\", 2:\"inception_max_prob\"})\n",
    "\n",
    "all_preds = df_s.join([resnet_preds, inception_preds])\n",
    "all_preds \n",
    "\n"
   ]
  },
  {
   "cell_type": "code",
   "execution_count": null,
   "metadata": {},
   "outputs": [],
   "source": [
    "# Calling the cascading function\n",
    "cascade_df = all_preds.join(\n",
    "    all_preds.apply(\n",
    "        cascade_predict, axis=1, result_type=\"expand\").rename(\n",
    "            columns={0: \"cascade_indices\", 1: \"cascade_percentage\", 2:\"cascade_prediction\"}))\n",
    "cascade_df\n"
   ]
  },
  {
   "cell_type": "code",
   "execution_count": null,
   "metadata": {},
   "outputs": [],
   "source": [
    "cascade_df[['images', 'cascade_prediction']]"
   ]
  },
  {
   "cell_type": "code",
   "execution_count": null,
   "metadata": {},
   "outputs": [],
   "source": [
    "show('ILSVRC2017_test_00000009.JPEG')"
   ]
  },
  {
   "cell_type": "code",
   "execution_count": null,
   "metadata": {},
   "outputs": [],
   "source": [
    "resnet_preds['resnet_indices']"
   ]
  },
  {
   "cell_type": "code",
   "execution_count": null,
   "metadata": {},
   "outputs": [],
   "source": [
    "resnet_preds['resnet_indices']"
   ]
  },
  {
   "cell_type": "code",
   "execution_count": 86,
   "metadata": {},
   "outputs": [
    {
     "data": {
      "text/plain": [
       "887"
      ]
     },
     "execution_count": 86,
     "metadata": {},
     "output_type": "execute_result"
    }
   ],
   "source": [
    "np.where(resnet_preds['resnet_indices'].iloc[0] == 0)[0][0]"
   ]
  },
  {
   "cell_type": "code",
   "execution_count": 87,
   "metadata": {},
   "outputs": [
    {
     "data": {
      "text/plain": [
       "291"
      ]
     },
     "execution_count": 87,
     "metadata": {},
     "output_type": "execute_result"
    }
   ],
   "source": [
    "np.argmax(resnet_preds['resnet_percentage'].iloc[0])"
   ]
  },
  {
   "cell_type": "code",
   "execution_count": 88,
   "metadata": {},
   "outputs": [
    {
     "data": {
      "text/plain": [
       "57.083775"
      ]
     },
     "execution_count": 88,
     "metadata": {},
     "output_type": "execute_result"
    }
   ],
   "source": [
    "resnet_preds['resnet_percentage'].iloc[0][291]"
   ]
  },
  {
   "cell_type": "code",
   "execution_count": null,
   "metadata": {},
   "outputs": [],
   "source": []
  }
 ],
 "metadata": {
  "anaconda-cloud": {},
  "interpreter": {
   "hash": "2465c4f56298bc06dbdad3e7519856d346ec0e9edf6ba2c905f0af711583810e"
  },
  "kernelspec": {
   "display_name": "Python 3.8.13 ('central')",
   "language": "python",
   "name": "python3"
  },
  "language_info": {
   "codemirror_mode": {
    "name": "ipython",
    "version": 3
   },
   "file_extension": ".py",
   "mimetype": "text/x-python",
   "name": "python",
   "nbconvert_exporter": "python",
   "pygments_lexer": "ipython3",
   "version": "3.8.13"
  }
 },
 "nbformat": 4,
 "nbformat_minor": 2
}
